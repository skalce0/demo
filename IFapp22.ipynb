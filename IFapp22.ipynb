{
  "nbformat": 4,
  "nbformat_minor": 0,
  "metadata": {
    "colab": {
      "provenance": [],
      "include_colab_link": true
    },
    "kernelspec": {
      "name": "python3",
      "display_name": "Python 3"
    },
    "language_info": {
      "name": "python"
    }
  },
  "cells": [
    {
      "cell_type": "markdown",
      "metadata": {
        "id": "view-in-github",
        "colab_type": "text"
      },
      "source": [
        "<a href=\"https://colab.research.google.com/github/skalce0/demo/blob/main/IFapp22.ipynb\" target=\"_parent\"><img src=\"https://colab.research.google.com/assets/colab-badge.svg\" alt=\"Open In Colab\"/></a>"
      ]
    },
    {
      "cell_type": "code",
      "execution_count": null,
      "metadata": {
        "colab": {
          "base_uri": "https://localhost:8080/"
        },
        "id": "LPxXc7af91o9",
        "outputId": "72f0865a-a969-4d50-abc8-1f90a74c0030"
      },
      "outputs": [
        {
          "output_type": "stream",
          "name": "stdout",
          "text": [
            "Looking in indexes: https://pypi.org/simple, https://us-python.pkg.dev/colab-wheels/public/simple/\n",
            "Collecting pyspark\n",
            "  Downloading pyspark-3.3.1.tar.gz (281.4 MB)\n",
            "\u001b[K     |████████████████████████████████| 281.4 MB 44 kB/s \n",
            "\u001b[?25hCollecting py4j==0.10.9.5\n",
            "  Downloading py4j-0.10.9.5-py2.py3-none-any.whl (199 kB)\n",
            "\u001b[K     |████████████████████████████████| 199 kB 57.9 MB/s \n",
            "\u001b[?25hBuilding wheels for collected packages: pyspark\n",
            "  Building wheel for pyspark (setup.py) ... \u001b[?25l\u001b[?25hdone\n",
            "  Created wheel for pyspark: filename=pyspark-3.3.1-py2.py3-none-any.whl size=281845512 sha256=ac29b66a40a104a6cf77144abf9d51134698982388a645a88a64ef1a9c35b443\n",
            "  Stored in directory: /root/.cache/pip/wheels/43/dc/11/ec201cd671da62fa9c5cc77078235e40722170ceba231d7598\n",
            "Successfully built pyspark\n",
            "Installing collected packages: py4j, pyspark\n",
            "Successfully installed py4j-0.10.9.5 pyspark-3.3.1\n"
          ]
        }
      ],
      "source": [
        "!pip install pyspark\n",
        "from pyspark import SparkConf\n",
        "from pyspark.context import SparkContext\n",
        "sc = SparkContext.getOrCreate(SparkConf().setMaster(\"local[*]\"))"
      ]
    },
    {
      "cell_type": "code",
      "source": [
        "L = [3,4,3,5,6,7,8,1,1,0]"
      ],
      "metadata": {
        "id": "9pUl_PlY-unD"
      },
      "execution_count": null,
      "outputs": []
    },
    {
      "cell_type": "code",
      "source": [
        "n =sc.parallelize(L,4)\n",
        "# si m est le nombre de cores à disposition pour Spark\n",
        "# le partitionnement est sur k*m parties où 1<=k<=4"
      ],
      "metadata": {
        "id": "Mt0XF8Ti_D-l"
      },
      "execution_count": null,
      "outputs": []
    },
    {
      "cell_type": "code",
      "source": [
        "n"
      ],
      "metadata": {
        "colab": {
          "base_uri": "https://localhost:8080/"
        },
        "id": "nVj34D-pqQPI",
        "outputId": "bdf29dd8-3f03-4ef1-d92f-2fc013200bb4"
      },
      "execution_count": null,
      "outputs": [
        {
          "output_type": "execute_result",
          "data": {
            "text/plain": [
              "ParallelCollectionRDD[0] at readRDDFromFile at PythonRDD.scala:274"
            ]
          },
          "metadata": {},
          "execution_count": 5
        }
      ]
    },
    {
      "cell_type": "code",
      "source": [
        "n.count()"
      ],
      "metadata": {
        "colab": {
          "base_uri": "https://localhost:8080/"
        },
        "id": "cGXbgno8_XUD",
        "outputId": "650976e0-dda6-42aa-a29a-30ef70290927"
      },
      "execution_count": null,
      "outputs": [
        {
          "output_type": "execute_result",
          "data": {
            "text/plain": [
              "10"
            ]
          },
          "metadata": {},
          "execution_count": 6
        }
      ]
    },
    {
      "cell_type": "code",
      "source": [
        "n.collect()"
      ],
      "metadata": {
        "colab": {
          "base_uri": "https://localhost:8080/"
        },
        "id": "bVoc9FvH_aL4",
        "outputId": "c06d62b7-1b69-4cc0-9c51-8a0b560993a9"
      },
      "execution_count": null,
      "outputs": [
        {
          "output_type": "execute_result",
          "data": {
            "text/plain": [
              "[3, 4, 3, 5, 6, 7, 8, 1, 1, 0]"
            ]
          },
          "metadata": {},
          "execution_count": 7
        }
      ]
    },
    {
      "cell_type": "code",
      "source": [
        "n.take(5)"
      ],
      "metadata": {
        "colab": {
          "base_uri": "https://localhost:8080/"
        },
        "id": "vmOJEUQ8_lyF",
        "outputId": "7ab24310-96b5-4dbf-af29-25b7c091aca7"
      },
      "execution_count": null,
      "outputs": [
        {
          "output_type": "execute_result",
          "data": {
            "text/plain": [
              "[3, 4, 3, 5, 6]"
            ]
          },
          "metadata": {},
          "execution_count": 6
        }
      ]
    },
    {
      "cell_type": "code",
      "source": [
        "p = n.glom()"
      ],
      "metadata": {
        "id": "tKeTRVLm_yzC"
      },
      "execution_count": null,
      "outputs": []
    },
    {
      "cell_type": "code",
      "source": [
        "p"
      ],
      "metadata": {
        "colab": {
          "base_uri": "https://localhost:8080/"
        },
        "id": "nc6MtSibq7ho",
        "outputId": "7f507c9c-a12c-43f8-b544-066373316181"
      },
      "execution_count": null,
      "outputs": [
        {
          "output_type": "execute_result",
          "data": {
            "text/plain": [
              "PythonRDD[2] at RDD at PythonRDD.scala:53"
            ]
          },
          "metadata": {},
          "execution_count": 10
        }
      ]
    },
    {
      "cell_type": "code",
      "source": [
        "p.count()"
      ],
      "metadata": {
        "colab": {
          "base_uri": "https://localhost:8080/"
        },
        "id": "1JAJlg-irK_0",
        "outputId": "514d3199-8831-4278-a313-abb916c36b46"
      },
      "execution_count": null,
      "outputs": [
        {
          "output_type": "execute_result",
          "data": {
            "text/plain": [
              "4"
            ]
          },
          "metadata": {},
          "execution_count": 20
        }
      ]
    },
    {
      "cell_type": "code",
      "source": [
        "p.collect()"
      ],
      "metadata": {
        "colab": {
          "base_uri": "https://localhost:8080/"
        },
        "id": "HpO0ptNY_7wV",
        "outputId": "29b996c5-3d63-4144-db3f-c491afce868d"
      },
      "execution_count": null,
      "outputs": [
        {
          "output_type": "execute_result",
          "data": {
            "text/plain": [
              "[[3, 4], [3, 5], [6, 7], [8, 1, 1, 0]]"
            ]
          },
          "metadata": {},
          "execution_count": 21
        }
      ]
    },
    {
      "cell_type": "code",
      "source": [
        "s = n.map(lambda x : x +1)"
      ],
      "metadata": {
        "id": "u2hMTPRRrYYc"
      },
      "execution_count": null,
      "outputs": []
    },
    {
      "cell_type": "code",
      "source": [
        "s.collect()"
      ],
      "metadata": {
        "colab": {
          "base_uri": "https://localhost:8080/"
        },
        "id": "wI-Yq51Aranw",
        "outputId": "0bc65198-15c2-45e8-aa98-da5b748fce6e"
      },
      "execution_count": null,
      "outputs": [
        {
          "output_type": "execute_result",
          "data": {
            "text/plain": [
              "[4, 5, 4, 6, 7, 8, 9, 2, 2, 1]"
            ]
          },
          "metadata": {},
          "execution_count": 23
        }
      ]
    },
    {
      "cell_type": "code",
      "source": [
        "s.glom().collect()"
      ],
      "metadata": {
        "colab": {
          "base_uri": "https://localhost:8080/"
        },
        "id": "IbsJozIkrbRG",
        "outputId": "c850cf39-158c-4b87-946b-49b2ca16fbdd"
      },
      "execution_count": null,
      "outputs": [
        {
          "output_type": "execute_result",
          "data": {
            "text/plain": [
              "[[4, 5], [4, 6], [7, 8], [9, 2, 2, 1]]"
            ]
          },
          "metadata": {},
          "execution_count": 24
        }
      ]
    },
    {
      "cell_type": "code",
      "source": [
        "s.reduce(lambda x,y: x+y)"
      ],
      "metadata": {
        "colab": {
          "base_uri": "https://localhost:8080/"
        },
        "id": "wwOC0dwarb1I",
        "outputId": "d9999672-2375-4f9c-ded8-90b0af416714"
      },
      "execution_count": null,
      "outputs": [
        {
          "output_type": "execute_result",
          "data": {
            "text/plain": [
              "48"
            ]
          },
          "metadata": {},
          "execution_count": 25
        }
      ]
    },
    {
      "cell_type": "code",
      "source": [
        "# calculer la sommes des nombres pairs et la somme des nombres impairs\n",
        "# dans s"
      ],
      "metadata": {
        "id": "MAuCFjOss_Lq"
      },
      "execution_count": null,
      "outputs": []
    },
    {
      "cell_type": "code",
      "source": [
        "# prenez quelques minutes pour refleshir à une possible solution avec code\n"
      ],
      "metadata": {
        "id": "3iKr6SdPs_IL"
      },
      "execution_count": null,
      "outputs": []
    },
    {
      "cell_type": "code",
      "source": [
        "s.map(lambda x : (x%2, x)).reduceByKey(lambda x,y:x+y).collect()"
      ],
      "metadata": {
        "colab": {
          "base_uri": "https://localhost:8080/"
        },
        "id": "EwENa41v39q0",
        "outputId": "fc964be8-477c-4e37-dea9-c982154e9df8"
      },
      "execution_count": null,
      "outputs": [
        {
          "output_type": "execute_result",
          "data": {
            "text/plain": [
              "[(0, 26), (1, 22)]"
            ]
          },
          "metadata": {},
          "execution_count": 30
        }
      ]
    },
    {
      "cell_type": "code",
      "source": [
        "# reduceByKey effectue : \n",
        "# un shuffle --> (0, [4,4,6,8,2,2]) et (1, [5,7,9,1])\n",
        "# et l'aggregation sur les valeurs obtenues par groupement pour chaque cle, \n",
        "# via une fontion lambda "
      ],
      "metadata": {
        "id": "-v7viwIYs_B7"
      },
      "execution_count": null,
      "outputs": []
    },
    {
      "cell_type": "code",
      "source": [],
      "metadata": {
        "id": "u22dogjGs--i"
      },
      "execution_count": null,
      "outputs": []
    },
    {
      "cell_type": "code",
      "source": [
        "# 0 \\subset= S join T \\subset= S X T "
      ],
      "metadata": {
        "id": "7zpyNL_Is-0P"
      },
      "execution_count": null,
      "outputs": []
    },
    {
      "cell_type": "code",
      "source": [
        "l=sc.parallelize([(\"a\",1), (\"a\",2), (\"a\",3)])\n",
        "r=sc.parallelize([(\"a\",4), (\"a\",2), (\"a\",1)])\n",
        "l.join(r).collect()"
      ],
      "metadata": {
        "colab": {
          "base_uri": "https://localhost:8080/"
        },
        "id": "-9nQp9Vm7KaJ",
        "outputId": "837922cf-c3a0-4a5a-cf13-5aa53eb83dd4"
      },
      "execution_count": null,
      "outputs": [
        {
          "output_type": "execute_result",
          "data": {
            "text/plain": [
              "[('a', (1, 4)),\n",
              " ('a', (1, 2)),\n",
              " ('a', (1, 1)),\n",
              " ('a', (2, 4)),\n",
              " ('a', (2, 2)),\n",
              " ('a', (2, 1)),\n",
              " ('a', (3, 4)),\n",
              " ('a', (3, 2)),\n",
              " ('a', (3, 1))]"
            ]
          },
          "metadata": {},
          "execution_count": 31
        }
      ]
    },
    {
      "cell_type": "code",
      "source": [
        "# jointures en Spark "
      ],
      "metadata": {
        "id": "10LCB3wAs-nH"
      },
      "execution_count": null,
      "outputs": []
    },
    {
      "cell_type": "code",
      "source": [
        "l=sc.parallelize([(\"a\",1), (\"a\",2), (\"b\",3)])\n",
        "r=sc.parallelize([(\"a\",4), (\"c\",2), (\"b\",1)])\n",
        "l.join(r).collect()"
      ],
      "metadata": {
        "colab": {
          "base_uri": "https://localhost:8080/"
        },
        "id": "Z6uwIllbCwL_",
        "outputId": "8b9fbb23-8fad-4af5-c9ef-16c1fccba80c"
      },
      "execution_count": null,
      "outputs": [
        {
          "output_type": "execute_result",
          "data": {
            "text/plain": [
              "[('b', (3, 1)), ('a', (1, 4)), ('a', (2, 4))]"
            ]
          },
          "metadata": {},
          "execution_count": 14
        }
      ]
    },
    {
      "cell_type": "code",
      "source": [
        "# calculez les moyennes des nombres pairs/impairs. <---"
      ],
      "metadata": {
        "id": "Qkw6Get4BR8s"
      },
      "execution_count": null,
      "outputs": []
    },
    {
      "cell_type": "code",
      "source": [
        "snpi = s.map(lambda x : (x%2, x)).reduceByKey(lambda x,y:x+y)"
      ],
      "metadata": {
        "id": "iej_2G9h7wqV"
      },
      "execution_count": null,
      "outputs": []
    },
    {
      "cell_type": "code",
      "source": [
        "snpi.collect()"
      ],
      "metadata": {
        "colab": {
          "base_uri": "https://localhost:8080/"
        },
        "id": "CCuQZYCC7xur",
        "outputId": "f6e73359-72e0-492e-8956-9faa50f06ec7"
      },
      "execution_count": null,
      "outputs": [
        {
          "output_type": "execute_result",
          "data": {
            "text/plain": [
              "[(0, 26), (1, 22)]"
            ]
          },
          "metadata": {},
          "execution_count": 35
        }
      ]
    },
    {
      "cell_type": "code",
      "source": [
        "cnpi = s.map(lambda x : (x%2, 1)).reduceByKey(lambda x,y:x+y)"
      ],
      "metadata": {
        "id": "nvTjJ7sECkF5"
      },
      "execution_count": null,
      "outputs": []
    },
    {
      "cell_type": "code",
      "source": [
        "cnpi.collect()"
      ],
      "metadata": {
        "colab": {
          "base_uri": "https://localhost:8080/"
        },
        "id": "LPqAWbwZCrn7",
        "outputId": "c78f3097-ecdd-404d-ad23-85db503fdf79"
      },
      "execution_count": null,
      "outputs": [
        {
          "output_type": "execute_result",
          "data": {
            "text/plain": [
              "[(0, 6), (1, 4)]"
            ]
          },
          "metadata": {},
          "execution_count": 37
        }
      ]
    },
    {
      "cell_type": "code",
      "source": [
        "snpi.join(cnpi).map(lambda x : (x[0], x[1][0]/x[1][1])).collect()"
      ],
      "metadata": {
        "colab": {
          "base_uri": "https://localhost:8080/"
        },
        "id": "yN_3iizcDCP2",
        "outputId": "e9d2084f-14ae-4048-c095-d6ee9044fdfc"
      },
      "execution_count": null,
      "outputs": [
        {
          "output_type": "execute_result",
          "data": {
            "text/plain": [
              "[(0, 4.333333333333333), (1, 5.5)]"
            ]
          },
          "metadata": {},
          "execution_count": 40
        }
      ]
    },
    {
      "cell_type": "code",
      "source": [
        "# autre solution\n",
        "snpi.join(cnpi).mapValues(lambda x: x[0] / x[1]).collect()\n",
        "\n"
      ],
      "metadata": {
        "colab": {
          "base_uri": "https://localhost:8080/"
        },
        "id": "EkFRfo54Ek7W",
        "outputId": "8be8dfba-d90e-470d-df23-435f1ae20d69"
      },
      "execution_count": null,
      "outputs": [
        {
          "output_type": "execute_result",
          "data": {
            "text/plain": [
              "[(0, 4.333333333333333), (1, 5.5)]"
            ]
          },
          "metadata": {},
          "execution_count": 44
        }
      ]
    },
    {
      "cell_type": "code",
      "source": [
        "# flatMap\n",
        "n.collect()"
      ],
      "metadata": {
        "colab": {
          "base_uri": "https://localhost:8080/"
        },
        "id": "MRD5ZqpfGHSb",
        "outputId": "9d210e62-40f8-449c-c31d-e97f3449f120"
      },
      "execution_count": null,
      "outputs": [
        {
          "output_type": "execute_result",
          "data": {
            "text/plain": [
              "[3, 4, 3, 5, 6, 7, 8, 1, 1, 0]"
            ]
          },
          "metadata": {},
          "execution_count": 45
        }
      ]
    },
    {
      "cell_type": "code",
      "source": [
        "n.map(lambda x : list(range(x))).collect()"
      ],
      "metadata": {
        "colab": {
          "base_uri": "https://localhost:8080/"
        },
        "id": "WotVHujCGQKl",
        "outputId": "48c2671a-5115-4af1-afd1-81b3ec552478"
      },
      "execution_count": null,
      "outputs": [
        {
          "output_type": "execute_result",
          "data": {
            "text/plain": [
              "[[0, 1, 2],\n",
              " [0, 1, 2, 3],\n",
              " [0, 1, 2],\n",
              " [0, 1, 2, 3, 4],\n",
              " [0, 1, 2, 3, 4, 5],\n",
              " [0, 1, 2, 3, 4, 5, 6],\n",
              " [0, 1, 2, 3, 4, 5, 6, 7],\n",
              " [0],\n",
              " [0],\n",
              " []]"
            ]
          },
          "metadata": {},
          "execution_count": 46
        }
      ]
    },
    {
      "cell_type": "code",
      "source": [
        "n.flatMap(lambda x : list(range(x))).collect()"
      ],
      "metadata": {
        "colab": {
          "base_uri": "https://localhost:8080/"
        },
        "id": "4VCSmZu-Gir0",
        "outputId": "6ccdff8c-8655-4f77-e49e-c29eba523e37"
      },
      "execution_count": null,
      "outputs": [
        {
          "output_type": "execute_result",
          "data": {
            "text/plain": [
              "[0,\n",
              " 1,\n",
              " 2,\n",
              " 0,\n",
              " 1,\n",
              " 2,\n",
              " 3,\n",
              " 0,\n",
              " 1,\n",
              " 2,\n",
              " 0,\n",
              " 1,\n",
              " 2,\n",
              " 3,\n",
              " 4,\n",
              " 0,\n",
              " 1,\n",
              " 2,\n",
              " 3,\n",
              " 4,\n",
              " 5,\n",
              " 0,\n",
              " 1,\n",
              " 2,\n",
              " 3,\n",
              " 4,\n",
              " 5,\n",
              " 6,\n",
              " 0,\n",
              " 1,\n",
              " 2,\n",
              " 3,\n",
              " 4,\n",
              " 5,\n",
              " 6,\n",
              " 7,\n",
              " 0,\n",
              " 0]"
            ]
          },
          "metadata": {},
          "execution_count": 47
        }
      ]
    },
    {
      "cell_type": "code",
      "source": [
        "n.filter(lambda x : x%2==0).collect()"
      ],
      "metadata": {
        "colab": {
          "base_uri": "https://localhost:8080/"
        },
        "id": "CEucKCRUGypk",
        "outputId": "2ce70f01-a08d-4c5b-e4dc-c921e38af90d"
      },
      "execution_count": null,
      "outputs": [
        {
          "output_type": "execute_result",
          "data": {
            "text/plain": [
              "[4, 6, 8, 0]"
            ]
          },
          "metadata": {},
          "execution_count": 49
        }
      ]
    },
    {
      "cell_type": "code",
      "source": [
        "# encodez filter en terme de flatMap\n",
        "#n.flatMap( )\n",
        "\n",
        "n.flatMap(lambda x: [x] if x%2==0 else []).collect()"
      ],
      "metadata": {
        "colab": {
          "base_uri": "https://localhost:8080/"
        },
        "id": "b75bwtJiHIas",
        "outputId": "2b00b1f4-753e-4b39-aaee-5c2c6bbc4847"
      },
      "execution_count": null,
      "outputs": [
        {
          "output_type": "execute_result",
          "data": {
            "text/plain": [
              "[4, 6, 8, 0]"
            ]
          },
          "metadata": {},
          "execution_count": 50
        }
      ]
    },
    {
      "cell_type": "code",
      "source": [
        "n.collect()"
      ],
      "metadata": {
        "colab": {
          "base_uri": "https://localhost:8080/"
        },
        "id": "t987SS1hDZ0F",
        "outputId": "9959050f-e4ef-4432-a2c3-36c501b5a3f2"
      },
      "execution_count": null,
      "outputs": [
        {
          "output_type": "execute_result",
          "data": {
            "text/plain": [
              "[3, 4, 3, 5, 6, 7, 8, 1, 1, 0]"
            ]
          },
          "metadata": {},
          "execution_count": 17
        }
      ]
    },
    {
      "cell_type": "code",
      "source": [
        "n.reduce(lambda x,y:x+y)"
      ],
      "metadata": {
        "colab": {
          "base_uri": "https://localhost:8080/"
        },
        "id": "fPwah1-2DnHo",
        "outputId": "1a0dc1ee-aeb4-4157-a661-8cd4c692ad29"
      },
      "execution_count": null,
      "outputs": [
        {
          "output_type": "execute_result",
          "data": {
            "text/plain": [
              "38"
            ]
          },
          "metadata": {},
          "execution_count": 18
        }
      ]
    },
    {
      "cell_type": "code",
      "source": [
        "spi = n.map(lambda x:(x%2, x)).reduceByKey(lambda x,y: x +y)"
      ],
      "metadata": {
        "id": "twPSYlXeD5VA"
      },
      "execution_count": null,
      "outputs": []
    },
    {
      "cell_type": "code",
      "source": [
        "spi.collect()"
      ],
      "metadata": {
        "colab": {
          "base_uri": "https://localhost:8080/"
        },
        "id": "GcQE5LSyEK5q",
        "outputId": "bbb8f46f-e5ad-411a-c623-d2819fb19e59"
      },
      "execution_count": null,
      "outputs": [
        {
          "output_type": "execute_result",
          "data": {
            "text/plain": [
              "[(0, 18), (1, 20)]"
            ]
          },
          "metadata": {},
          "execution_count": 20
        }
      ]
    },
    {
      "cell_type": "code",
      "source": [
        "cpi =  n.map(lambda x:(x%2, 1)).reduceByKey(lambda x,y: x +y)"
      ],
      "metadata": {
        "id": "iX6ugDqTERa2"
      },
      "execution_count": null,
      "outputs": []
    },
    {
      "cell_type": "code",
      "source": [
        "cpi.collect()"
      ],
      "metadata": {
        "colab": {
          "base_uri": "https://localhost:8080/"
        },
        "id": "SPMIjGWsEdSt",
        "outputId": "f5f0b4f0-6105-4681-b1b6-d0b5e174f720"
      },
      "execution_count": null,
      "outputs": [
        {
          "output_type": "execute_result",
          "data": {
            "text/plain": [
              "[(0, 4), (1, 6)]"
            ]
          },
          "metadata": {},
          "execution_count": 22
        }
      ]
    },
    {
      "cell_type": "code",
      "source": [
        "spi.join(cpi).map(lambda x: (x[0], x[1][0]/x[1][1])).collect()"
      ],
      "metadata": {
        "colab": {
          "base_uri": "https://localhost:8080/"
        },
        "id": "D2abEsbGEkM5",
        "outputId": "a3a24925-8044-49f3-e1c1-c9b09f31225d"
      },
      "execution_count": null,
      "outputs": [
        {
          "output_type": "execute_result",
          "data": {
            "text/plain": [
              "[(0, 4.5), (1, 3.3333333333333335)]"
            ]
          },
          "metadata": {},
          "execution_count": 24
        }
      ]
    },
    {
      "cell_type": "code",
      "source": [
        "# version optimisée"
      ],
      "metadata": {
        "id": "hfc5EOWhFSIK"
      },
      "execution_count": null,
      "outputs": []
    },
    {
      "cell_type": "code",
      "source": [
        "scpi=n.map(lambda x:(x%2,(x,1))).reduceByKey(lambda x,y: (x[0]+y[0], x[1] +y[1]))"
      ],
      "metadata": {
        "id": "64SOgHMJFULn"
      },
      "execution_count": null,
      "outputs": []
    },
    {
      "cell_type": "code",
      "source": [
        "scpi.map(lambda x: (x[0], x[1][0]/x[1][1])).collect()"
      ],
      "metadata": {
        "colab": {
          "base_uri": "https://localhost:8080/"
        },
        "id": "CsgSPHneFv8H",
        "outputId": "8754cfcf-52c0-454e-e169-2531177f681f"
      },
      "execution_count": null,
      "outputs": [
        {
          "output_type": "execute_result",
          "data": {
            "text/plain": [
              "[(0, 4.5), (1, 3.3333333333333335)]"
            ]
          },
          "metadata": {},
          "execution_count": 28
        }
      ]
    },
    {
      "cell_type": "code",
      "source": [
        "# word count"
      ],
      "metadata": {
        "id": "tWUPQItXyyf7"
      },
      "execution_count": null,
      "outputs": []
    },
    {
      "cell_type": "code",
      "source": [
        "text = sc.parallelize([\"aa bb vv\", \"gg aa vv\", \"bb aa gg\" ],10)"
      ],
      "metadata": {
        "id": "l2kHqqtny0dk"
      },
      "execution_count": null,
      "outputs": []
    },
    {
      "cell_type": "code",
      "source": [
        "text.collect()"
      ],
      "metadata": {
        "colab": {
          "base_uri": "https://localhost:8080/"
        },
        "id": "-ti3rQzJ0GeF",
        "outputId": "22fea052-7f9e-4de3-a92f-475dd0d13612"
      },
      "execution_count": null,
      "outputs": [
        {
          "output_type": "execute_result",
          "data": {
            "text/plain": [
              "['aa bb vv', 'gg aa vv', 'bb aa gg']"
            ]
          },
          "metadata": {},
          "execution_count": 7
        }
      ]
    },
    {
      "cell_type": "code",
      "source": [
        "text.glom().collect()"
      ],
      "metadata": {
        "colab": {
          "base_uri": "https://localhost:8080/"
        },
        "id": "KOXyHowJz_Tm",
        "outputId": "09f93196-5220-4b65-fa6c-01551d175a07"
      },
      "execution_count": null,
      "outputs": [
        {
          "output_type": "execute_result",
          "data": {
            "text/plain": [
              "[[], [], [], ['aa bb vv'], [], [], ['gg aa vv'], [], [], ['bb aa gg']]"
            ]
          },
          "metadata": {},
          "execution_count": 8
        }
      ]
    },
    {
      "cell_type": "code",
      "source": [
        "def wordcount(t):\n",
        "  wordsone =t.flatMap(lambda l : [(w,1) for w in  l.split()])\n",
        "  return wordsone.reduceByKey(lambda x,y: x + y)\n"
      ],
      "metadata": {
        "id": "RT3N8wST1B4o"
      },
      "execution_count": null,
      "outputs": []
    },
    {
      "cell_type": "code",
      "source": [
        "wordcount(text).collect()"
      ],
      "metadata": {
        "colab": {
          "base_uri": "https://localhost:8080/"
        },
        "id": "8A7dWlIc1i4d",
        "outputId": "332e48bc-8771-47da-cbf2-0ba9a587965c"
      },
      "execution_count": null,
      "outputs": [
        {
          "output_type": "execute_result",
          "data": {
            "text/plain": [
              "[('bb', 2), ('gg', 2), ('aa', 3), ('vv', 2)]"
            ]
          },
          "metadata": {},
          "execution_count": 18
        }
      ]
    },
    {
      "cell_type": "code",
      "source": [
        "! wget https://www.dropbox.com/s/1t8an83nqolen0s/shake.txt"
      ],
      "metadata": {
        "colab": {
          "base_uri": "https://localhost:8080/"
        },
        "id": "eMgpnHNV3zsn",
        "outputId": "f2a17ed2-8a54-4d43-c22b-7758ddf7d7a1"
      },
      "execution_count": null,
      "outputs": [
        {
          "output_type": "stream",
          "name": "stdout",
          "text": [
            "--2022-12-08 08:37:14--  https://www.dropbox.com/s/1t8an83nqolen0s/shake.txt\n",
            "Resolving www.dropbox.com (www.dropbox.com)... 162.125.3.18, 2620:100:6019:18::a27d:412\n",
            "Connecting to www.dropbox.com (www.dropbox.com)|162.125.3.18|:443... connected.\n",
            "HTTP request sent, awaiting response... 302 Found\n",
            "Location: /s/raw/1t8an83nqolen0s/shake.txt [following]\n",
            "--2022-12-08 08:37:14--  https://www.dropbox.com/s/raw/1t8an83nqolen0s/shake.txt\n",
            "Reusing existing connection to www.dropbox.com:443.\n",
            "HTTP request sent, awaiting response... 302 Found\n",
            "Location: https://ucb9cb7009bfbdc38f1a5f61b509.dl.dropboxusercontent.com/cd/0/inline/ByNl9hXS_-_ejvLIrYhfm0r_VngJkDIJTwoXfIGJDh5DHyL5a5SQLQpF__7xuUdcDaFROhsot2Bvl1ELiRvSlOLB1mqp9UzlYGCmvfpPSaHHSPUgVG2PSo9NDHAtimgLctMvLo6cGmBOFL4tNb2E3x5Km0NWoeKAseV43-ApXAEERA/file# [following]\n",
            "--2022-12-08 08:37:14--  https://ucb9cb7009bfbdc38f1a5f61b509.dl.dropboxusercontent.com/cd/0/inline/ByNl9hXS_-_ejvLIrYhfm0r_VngJkDIJTwoXfIGJDh5DHyL5a5SQLQpF__7xuUdcDaFROhsot2Bvl1ELiRvSlOLB1mqp9UzlYGCmvfpPSaHHSPUgVG2PSo9NDHAtimgLctMvLo6cGmBOFL4tNb2E3x5Km0NWoeKAseV43-ApXAEERA/file\n",
            "Resolving ucb9cb7009bfbdc38f1a5f61b509.dl.dropboxusercontent.com (ucb9cb7009bfbdc38f1a5f61b509.dl.dropboxusercontent.com)... 162.125.8.15, 2620:100:6018:15::a27d:30f\n",
            "Connecting to ucb9cb7009bfbdc38f1a5f61b509.dl.dropboxusercontent.com (ucb9cb7009bfbdc38f1a5f61b509.dl.dropboxusercontent.com)|162.125.8.15|:443... connected.\n",
            "HTTP request sent, awaiting response... 200 OK\n",
            "Length: 5458208 (5.2M) [text/plain]\n",
            "Saving to: ‘shake.txt’\n",
            "\n",
            "shake.txt           100%[===================>]   5.21M  31.3MB/s    in 0.2s    \n",
            "\n",
            "2022-12-08 08:37:15 (31.3 MB/s) - ‘shake.txt’ saved [5458208/5458208]\n",
            "\n"
          ]
        }
      ]
    },
    {
      "cell_type": "code",
      "source": [
        "! ls\n"
      ],
      "metadata": {
        "colab": {
          "base_uri": "https://localhost:8080/"
        },
        "id": "S403vekL4d1v",
        "outputId": "8195a024-287a-4433-b5a4-062e03dd93a6"
      },
      "execution_count": null,
      "outputs": [
        {
          "output_type": "stream",
          "name": "stdout",
          "text": [
            "sample_data  shake.txt\n"
          ]
        }
      ]
    },
    {
      "cell_type": "code",
      "source": [
        "! pwd"
      ],
      "metadata": {
        "colab": {
          "base_uri": "https://localhost:8080/"
        },
        "id": "zg0NLm6u4hgG",
        "outputId": "3137d4fd-624f-4a54-d19a-fe727eee60cc"
      },
      "execution_count": null,
      "outputs": [
        {
          "output_type": "stream",
          "name": "stdout",
          "text": [
            "/content\n"
          ]
        }
      ]
    },
    {
      "cell_type": "code",
      "source": [
        "tshake = sc.textFile(\"/content/shake.txt\")"
      ],
      "metadata": {
        "id": "xFc0mcKG4mAj"
      },
      "execution_count": null,
      "outputs": []
    },
    {
      "cell_type": "code",
      "source": [
        "tshake.count()"
      ],
      "metadata": {
        "colab": {
          "base_uri": "https://localhost:8080/"
        },
        "id": "-Zk4I0rS41Kc",
        "outputId": "769a1718-9ff6-4bdb-d6d2-39a02020b545"
      },
      "execution_count": null,
      "outputs": [
        {
          "output_type": "execute_result",
          "data": {
            "text/plain": [
              "124465"
            ]
          },
          "metadata": {},
          "execution_count": 23
        }
      ]
    },
    {
      "cell_type": "code",
      "source": [
        "tshake.take(20)"
      ],
      "metadata": {
        "colab": {
          "base_uri": "https://localhost:8080/"
        },
        "id": "sXqzzYjb46wp",
        "outputId": "88fc2a00-2393-438a-c5df-73544956be23"
      },
      "execution_count": null,
      "outputs": [
        {
          "output_type": "execute_result",
          "data": {
            "text/plain": [
              "['This is the 100th Etext file presented by Project Gutenberg, and',\n",
              " 'is presented in cooperation with World Library, Inc., from their',\n",
              " 'Library of the Future and Shakespeare CDROMS.  Project Gutenberg',\n",
              " 'often releases Etexts that are NOT placed in the Public Domain!!',\n",
              " '',\n",
              " 'Shakespeare',\n",
              " '',\n",
              " '',\n",
              " '',\n",
              " '',\n",
              " '',\n",
              " '',\n",
              " '',\n",
              " '',\n",
              " '',\n",
              " '',\n",
              " '',\n",
              " '*This Etext has certain copyright implications you should read!*',\n",
              " '',\n",
              " '<<THIS ELECTRONIC VERSION OF THE COMPLETE WORKS OF WILLIAM']"
            ]
          },
          "metadata": {},
          "execution_count": 24
        }
      ]
    },
    {
      "cell_type": "code",
      "source": [
        "wordcount(tshake).count()"
      ],
      "metadata": {
        "colab": {
          "base_uri": "https://localhost:8080/"
        },
        "id": "oszM-VPj5EWg",
        "outputId": "f89c6340-6ddd-4cce-9239-65db9abe63bd"
      },
      "execution_count": null,
      "outputs": [
        {
          "output_type": "execute_result",
          "data": {
            "text/plain": [
              "67505"
            ]
          },
          "metadata": {},
          "execution_count": 25
        }
      ]
    },
    {
      "cell_type": "code",
      "source": [
        "wordcount(tshake).take(30)"
      ],
      "metadata": {
        "colab": {
          "base_uri": "https://localhost:8080/"
        },
        "id": "eskNgCBQ5LzR",
        "outputId": "909634f6-fbcc-4b67-e4f5-16f8ec121bbc"
      },
      "execution_count": null,
      "outputs": [
        {
          "output_type": "execute_result",
          "data": {
            "text/plain": [
              "[('is', 7851),\n",
              " ('Etext', 4),\n",
              " ('presented', 11),\n",
              " ('Project', 13),\n",
              " ('Gutenberg,', 1),\n",
              " ('in', 9576),\n",
              " ('cooperation', 1),\n",
              " ('World', 5),\n",
              " ('Library,', 2),\n",
              " ('Inc.,', 1),\n",
              " ('of', 15544),\n",
              " ('Future', 3),\n",
              " ('Shakespeare', 45),\n",
              " ('are', 2917),\n",
              " ('placed', 10),\n",
              " ('Public', 1),\n",
              " ('Domain!!', 1),\n",
              " ('*This', 1),\n",
              " ('certain', 116),\n",
              " ('copyright', 7),\n",
              " ('implications', 1),\n",
              " ('read!*', 1),\n",
              " ('ELECTRONIC', 442),\n",
              " ('VERSION', 221),\n",
              " ('OF', 1490),\n",
              " ('WILLIAM', 244),\n",
              " ('SHAKESPEARE', 223),\n",
              " ('IS', 445),\n",
              " ('COPYRIGHT', 221),\n",
              " ('WORLD', 221)]"
            ]
          },
          "metadata": {},
          "execution_count": 26
        }
      ]
    },
    {
      "cell_type": "code",
      "source": [
        "# chercher les mots le plus frequents\n",
        "wc = wordcount(tshake).persist()\n",
        "frequences = wc.map(lambda c : c[1] ) \n",
        "maxfreq = frequences.reduce(lambda x,y : max(x,y))\n",
        "wc.filter(lambda c : c[1]==maxfreq  ).collect()"
      ],
      "metadata": {
        "colab": {
          "base_uri": "https://localhost:8080/"
        },
        "id": "uUMWy2sM6Bsy",
        "outputId": "38b48674-a9e9-4d94-8a9d-82e8788e3793"
      },
      "execution_count": null,
      "outputs": [
        {
          "output_type": "execute_result",
          "data": {
            "text/plain": [
              "[('the', 23242)]"
            ]
          },
          "metadata": {},
          "execution_count": 32
        }
      ]
    },
    {
      "cell_type": "code",
      "source": [
        "pets =sc.parallelize([(\"cat\", 1), (\"dog\", 1), (\"cat\", 2), (\"dog\", 3),(\"dog\", 2)  ])"
      ],
      "metadata": {
        "id": "TpbPPjHSLiVp"
      },
      "execution_count": null,
      "outputs": []
    },
    {
      "cell_type": "code",
      "source": [
        "# version moins efficace\n",
        "ps = pets.reduceByKey(lambda x, y : x +y)\n",
        "pc = pets.map(lambda x:(x[0], 1) ).reduceByKey(lambda x, y : x +y)\n",
        "ps.join(pc)....idem...collect()\n"
      ],
      "metadata": {
        "colab": {
          "base_uri": "https://localhost:8080/"
        },
        "id": "ghA9mwzXNz7i",
        "outputId": "6d8806ca-6186-4308-8b0f-ca5f5efe0732"
      },
      "execution_count": null,
      "outputs": [
        {
          "output_type": "execute_result",
          "data": {
            "text/plain": [
              "[('cat', (3, 2)), ('dog', (6, 3))]"
            ]
          },
          "metadata": {},
          "execution_count": 20
        }
      ]
    },
    {
      "cell_type": "code",
      "source": [
        "pets.map(lambda c : (c[0], (c[1], 1))  ).\\\n",
        "reduceByKey(lambda a,b : ( a[0]+b[0], a[1]+b[1] )).\\\n",
        "map(lambda x: (x[0], x[1][0]/x[1][1])).collect()"
      ],
      "metadata": {
        "colab": {
          "base_uri": "https://localhost:8080/"
        },
        "id": "zTjx0_LSMRRM",
        "outputId": "8b2dcf71-a1c8-491a-b979-ad0139434440"
      },
      "execution_count": null,
      "outputs": [
        {
          "output_type": "execute_result",
          "data": {
            "text/plain": [
              "[('cat', 1.5), ('dog', 2.0)]"
            ]
          },
          "metadata": {},
          "execution_count": 12
        }
      ]
    }
  ]
}